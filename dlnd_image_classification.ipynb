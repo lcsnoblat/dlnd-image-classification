{
 "cells": [
  {
   "cell_type": "markdown",
   "metadata": {
    "collapsed": true
   },
   "source": [
    "# Image Classification\n",
    "In this project, you'll classify images from the [CIFAR-10 dataset](https://www.cs.toronto.edu/~kriz/cifar.html).  The dataset consists of airplanes, dogs, cats, and other objects. You'll preprocess the images, then train a convolutional neural network on all the samples. The images need to be normalized and the labels need to be one-hot encoded.  You'll get to apply what you learned and build a convolutional, max pooling, dropout, and fully connected layers.  At the end, you'll get to see your neural network's predictions on the sample images.\n",
    "## Get the Data\n",
    "Run the following cell to download the [CIFAR-10 dataset for python](https://www.cs.toronto.edu/~kriz/cifar-10-python.tar.gz)."
   ]
  },
  {
   "cell_type": "code",
   "execution_count": 1,
   "metadata": {},
   "outputs": [
    {
     "name": "stderr",
     "output_type": "stream",
     "text": [
      "CIFAR-10 Dataset: 171MB [00:39, 4.35MB/s]                              \n"
     ]
    },
    {
     "name": "stdout",
     "output_type": "stream",
     "text": [
      "All files found!\n"
     ]
    }
   ],
   "source": [
    "\"\"\"\n",
    "DON'T MODIFY ANYTHING IN THIS CELL THAT IS BELOW THIS LINE\n",
    "\"\"\"\n",
    "from urllib.request import urlretrieve\n",
    "from os.path import isfile, isdir\n",
    "from tqdm import tqdm\n",
    "import problem_unittests as tests\n",
    "import tarfile\n",
    "\n",
    "cifar10_dataset_folder_path = 'cifar-10-batches-py'\n",
    "\n",
    "# Use Floyd's cifar-10 dataset if present\n",
    "floyd_cifar10_location = '/input/cifar-10/python.tar.gz'\n",
    "if isfile(floyd_cifar10_location):\n",
    "    tar_gz_path = floyd_cifar10_location\n",
    "else:\n",
    "    tar_gz_path = 'cifar-10-python.tar.gz'\n",
    "\n",
    "class DLProgress(tqdm):\n",
    "    last_block = 0\n",
    "\n",
    "    def hook(self, block_num=1, block_size=1, total_size=None):\n",
    "        self.total = total_size\n",
    "        self.update((block_num - self.last_block) * block_size)\n",
    "        self.last_block = block_num\n",
    "\n",
    "if not isfile(tar_gz_path):\n",
    "    with DLProgress(unit='B', unit_scale=True, miniters=1, desc='CIFAR-10 Dataset') as pbar:\n",
    "        urlretrieve(\n",
    "            'https://www.cs.toronto.edu/~kriz/cifar-10-python.tar.gz',\n",
    "            tar_gz_path,\n",
    "            pbar.hook)\n",
    "\n",
    "if not isdir(cifar10_dataset_folder_path):\n",
    "    with tarfile.open(tar_gz_path) as tar:\n",
    "        tar.extractall()\n",
    "        tar.close()\n",
    "\n",
    "\n",
    "tests.test_folder_path(cifar10_dataset_folder_path)"
   ]
  },
  {
   "cell_type": "markdown",
   "metadata": {},
   "source": [
    "## Explore the Data\n",
    "The dataset is broken into batches to prevent your machine from running out of memory.  The CIFAR-10 dataset consists of 5 batches, named `data_batch_1`, `data_batch_2`, etc.. Each batch contains the labels and images that are one of the following:\n",
    "* airplane\n",
    "* automobile\n",
    "* bird\n",
    "* cat\n",
    "* deer\n",
    "* dog\n",
    "* frog\n",
    "* horse\n",
    "* ship\n",
    "* truck\n",
    "\n",
    "Understanding a dataset is part of making predictions on the data.  Play around with the code cell below by changing the `batch_id` and `sample_id`. The `batch_id` is the id for a batch (1-5). The `sample_id` is the id for a image and label pair in the batch.\n",
    "\n",
    "Ask yourself \"What are all possible labels?\", \"What is the range of values for the image data?\", \"Are the labels in order or random?\".  Answers to questions like these will help you preprocess the data and end up with better predictions."
   ]
  },
  {
   "cell_type": "code",
   "execution_count": 2,
   "metadata": {},
   "outputs": [
    {
     "name": "stderr",
     "output_type": "stream",
     "text": [
      "/home/lcsnoblat/anaconda3/envs/tensorflow/lib/python3.5/site-packages/matplotlib/font_manager.py:280: UserWarning: Matplotlib is building the font cache using fc-list. This may take a moment.\n",
      "  'Matplotlib is building the font cache using fc-list. '\n"
     ]
    },
    {
     "name": "stdout",
     "output_type": "stream",
     "text": [
      "\n",
      "Stats of batch 1:\n",
      "Samples: 10000\n",
      "Label Counts: {0: 1005, 1: 974, 2: 1032, 3: 1016, 4: 999, 5: 937, 6: 1030, 7: 1001, 8: 1025, 9: 981}\n",
      "First 20 Labels: [6, 9, 9, 4, 1, 1, 2, 7, 8, 3, 4, 7, 7, 2, 9, 9, 9, 3, 2, 6]\n",
      "\n",
      "Example of Image 5:\n",
      "Image - Min Value: 0 Max Value: 252\n",
      "Image - Shape: (32, 32, 3)\n",
      "Label - Label Id: 1 Name: automobile\n"
     ]
    },
    {
     "data": {
      "image/png": "[encoded data removed]",
      "text/plain": [
       "<matplotlib.figure.Figure at 0x7fa307b07710>"
      ]
     },
     "metadata": {
      "image/png": {
       "height": 250,
       "width": 253
      }
     },
     "output_type": "display_data"
    }
   ],
   "source": [
    "%matplotlib inline\n",
    "%config InlineBackend.figure_format = 'retina'\n",
    "\n",
    "import helper\n",
    "import numpy as np\n",
    "\n",
    "# Explore the dataset\n",
    "batch_id = 1\n",
    "sample_id = 5\n",
    "helper.display_stats(cifar10_dataset_folder_path, batch_id, sample_id)"
   ]
  },
  {
   "cell_type": "markdown",
   "metadata": {},
   "source": [
    "## Implement Preprocess Functions\n",
    "### Normalize\n",
    "In the cell below, implement the `normalize` function to take in image data, `x`, and return it as a normalized Numpy array. The values should be in the range of 0 to 1, inclusive.  The return object should be the same shape as `x`."
   ]
  },
  {
   "cell_type": "code",
   "execution_count": 3,
   "metadata": {},
   "outputs": [
    {
     "name": "stdout",
     "output_type": "stream",
     "text": [
      "Tests Passed\n"
     ]
    }
   ],
   "source": [
    "def normalize(x):\n",
    "    \"\"\"\n",
    "    Normalize a list of sample image data in the range of 0 to 1\n",
    "    : x: List of image data.  The image shape is (32, 32, 3)\n",
    "    : return: Numpy array of normalize data\n",
    "    \"\"\"\n",
    "    np_minimo = np.min(x)\n",
    "    np_maximo = np.max(x)\n",
    "    return (x - np_minimo) / (np_maximo - np_minimo)\n",
    "\n",
    "\n",
    "\"\"\"\n",
    "DON'T MODIFY ANYTHING IN THIS CELL THAT IS BELOW THIS LINE\n",
    "\"\"\"\n",
    "tests.test_normalize(normalize)"
   ]
  },
  {
   "cell_type": "markdown",
   "metadata": {},
   "source": [
    "### One-hot encode\n",
    "Just like the previous code cell, you'll be implementing a function for preprocessing.  This time, you'll implement the `one_hot_encode` function. The input, `x`, are a list of labels.  Implement the function to return the list of labels as One-Hot encoded Numpy array.  The possible values for labels are 0 to 9. The one-hot encoding function should return the same encoding for each value between each call to `one_hot_encode`.  Make sure to save the map of encodings outside the function.\n",
    "\n",
    "Hint: Don't reinvent the wheel."
   ]
  },
  {
   "cell_type": "code",
   "execution_count": 5,
   "metadata": {},
   "outputs": [
    {
     "name": "stdout",
     "output_type": "stream",
     "text": [
      "Tests Passed\n"
     ]
    }
   ],
   "source": [
    "def one_hot_encode(x):\n",
    "    \"\"\"\n",
    "    One hot encode a list of sample labels. Return a one-hot encoded vector for each label.\n",
    "    : x: List of sample Labels\n",
    "    : return: Numpy array of one-hot encoded labels\n",
    "    \"\"\"\n",
    "    # TODO: Implement Function\n",
    "    return np.eye(10)[x]\n",
    "\n",
    "\n",
    "\"\"\"\n",
    "DON'T MODIFY ANYTHING IN THIS CELL THAT IS BELOW THIS LINE\n",
    "\"\"\"\n",
    "tests.test_one_hot_encode(one_hot_encode)"
   ]
  },
  {
   "cell_type": "markdown",
   "metadata": {},
   "source": [
    "### Randomize Data\n",
    "As you saw from exploring the data above, the order of the samples are randomized.  It doesn't hurt to randomize it again, but you don't need to for this dataset."
   ]
  },
  {
   "cell_type": "markdown",
   "metadata": {},
   "source": [
    "## Preprocess all the data and save it\n",
    "Running the code cell below will preprocess all the CIFAR-10 data and save it to file. The code below also uses 10% of the training data for validation."
   ]
  },
  {
   "cell_type": "code",
   "execution_count": 6,
   "metadata": {
    "collapsed": true
   },
   "outputs": [],
   "source": [
    "\"\"\"\n",
    "DON'T MODIFY ANYTHING IN THIS CELL\n",
    "\"\"\"\n",
    "# Preprocess Training, Validation, and Testing Data\n",
    "helper.preprocess_and_save_data(cifar10_dataset_folder_path, normalize, one_hot_encode)"
   ]
  },
  {
   "cell_type": "markdown",
   "metadata": {},
   "source": [
    "# Check Point\n",
    "This is your first checkpoint.  If you ever decide to come back to this notebook or have to restart the notebook, you can start from here.  The preprocessed data has been saved to disk."
   ]
  },
  {
   "cell_type": "code",
   "execution_count": 7,
   "metadata": {
    "collapsed": true
   },
   "outputs": [],
   "source": [
    "\"\"\"\n",
    "DON'T MODIFY ANYTHING IN THIS CELL\n",
    "\"\"\"\n",
    "import pickle\n",
    "import problem_unittests as tests\n",
    "import helper\n",
    "\n",
    "# Load the Preprocessed Validation data\n",
    "valid_features, valid_labels = pickle.load(open('preprocess_validation.p', mode='rb'))"
   ]
  },
  {
   "cell_type": "markdown",
   "metadata": {},
   "source": [
    "## Build the network\n",
    "For the neural network, you'll build each layer into a function.  Most of the code you've seen has been outside of functions. To test your code more thoroughly, we require that you put each layer in a function.  This allows us to give you better feedback and test for simple mistakes using our unittests before you submit your project.\n",
    "\n",
    ">**Note:** If you're finding it hard to dedicate enough time for this course each week, we've provided a small shortcut to this part of the project. In the next couple of problems, you'll have the option to use classes from the [TensorFlow Layers](https://www.tensorflow.org/api_docs/python/tf/layers) or [TensorFlow Layers (contrib)](https://www.tensorflow.org/api_guides/python/contrib.layers) packages to build each layer, except the layers you build in the \"Convolutional and Max Pooling Layer\" section.  TF Layers is similar to Keras's and TFLearn's abstraction to layers, so it's easy to pickup.\n",
    "\n",
    ">However, if you would like to get the most out of this course, try to solve all the problems _without_ using anything from the TF Layers packages. You **can** still use classes from other packages that happen to have the same name as ones you find in TF Layers! For example, instead of using the TF Layers version of the `conv2d` class, [tf.layers.conv2d](https://www.tensorflow.org/api_docs/python/tf/layers/conv2d), you would want to use the TF Neural Network version of `conv2d`, [tf.nn.conv2d](https://www.tensorflow.org/api_docs/python/tf/nn/conv2d). \n",
    "\n",
    "Let's begin!\n",
    "\n",
    "### Input\n",
    "The neural network needs to read the image data, one-hot encoded labels, and dropout keep probability. Implement the following functions\n",
    "* Implement `neural_net_image_input`\n",
    " * Return a [TF Placeholder](https://www.tensorflow.org/api_docs/python/tf/placeholder)\n",
    " * Set the shape using `image_shape` with batch size set to `None`.\n",
    " * Name the TensorFlow placeholder \"x\" using the TensorFlow `name` parameter in the [TF Placeholder](https://www.tensorflow.org/api_docs/python/tf/placeholder).\n",
    "* Implement `neural_net_label_input`\n",
    " * Return a [TF Placeholder](https://www.tensorflow.org/api_docs/python/tf/placeholder)\n",
    " * Set the shape using `n_classes` with batch size set to `None`.\n",
    " * Name the TensorFlow placeholder \"y\" using the TensorFlow `name` parameter in the [TF Placeholder](https://www.tensorflow.org/api_docs/python/tf/placeholder).\n",
    "* Implement `neural_net_keep_prob_input`\n",
    " * Return a [TF Placeholder](https://www.tensorflow.org/api_docs/python/tf/placeholder) for dropout keep probability.\n",
    " * Name the TensorFlow placeholder \"keep_prob\" using the TensorFlow `name` parameter in the [TF Placeholder](https://www.tensorflow.org/api_docs/python/tf/placeholder).\n",
    "\n",
    "These names will be used at the end of the project to load your saved model.\n",
    "\n",
    "Note: `None` for shapes in TensorFlow allow for a dynamic size."
   ]
  },
  {
   "cell_type": "code",
   "execution_count": 8,
   "metadata": {},
   "outputs": [
    {
     "name": "stdout",
     "output_type": "stream",
     "text": [
      "Image Input Tests Passed.\n",
      "Label Input Tests Passed.\n",
      "Keep Prob Tests Passed.\n"
     ]
    }
   ],
   "source": [
    "import tensorflow as tf\n",
    "\n",
    "def neural_net_image_input(image_shape):\n",
    "    \"\"\"\n",
    "    Return a Tensor for a batch of image input\n",
    "    : image_shape: Shape of the images\n",
    "    : return: Tensor for image input.\n",
    "    \"\"\"\n",
    "    # TODO: Implement Function\n",
    "    return tf.placeholder(tf.float32, [None, *image_shape], \"x\")\n",
    "\n",
    "\n",
    "def neural_net_label_input(n_classes):\n",
    "    \"\"\"\n",
    "    Return a Tensor for a batch of label input\n",
    "    : n_classes: Number of classes\n",
    "    : return: Tensor for label input.\n",
    "    \"\"\"\n",
    "    # TODO: Implement Function\n",
    "    return tf.placeholder(tf.float32, [None, n_classes], \"y\")\n",
    "\n",
    "\n",
    "def neural_net_keep_prob_input():\n",
    "    \"\"\"\n",
    "    Return a Tensor for keep probability\n",
    "    : return: Tensor for keep probability.\n",
    "    \"\"\"\n",
    "    # TODO: Implement Function\n",
    "    return tf.placeholder(tf.float32, name=\"keep_prob\")\n",
    "\n",
    "\n",
    "\"\"\"\n",
    "DON'T MODIFY ANYTHING IN THIS CELL THAT IS BELOW THIS LINE\n",
    "\"\"\"\n",
    "tf.reset_default_graph()\n",
    "tests.test_nn_image_inputs(neural_net_image_input)\n",
    "tests.test_nn_label_inputs(neural_net_label_input)\n",
    "tests.test_nn_keep_prob_inputs(neural_net_keep_prob_input)"
   ]
  },
  {
   "cell_type": "markdown",
   "metadata": {},
   "source": [
    "### Convolution and Max Pooling Layer\n",
    "Convolution layers have a lot of success with images. For this code cell, you should implement the function `conv2d_maxpool` to apply convolution then max pooling:\n",
    "* Create the weight and bias using `conv_ksize`, `conv_num_outputs` and the shape of `x_tensor`.\n",
    "* Apply a convolution to `x_tensor` using weight and `conv_strides`.\n",
    " * We recommend you use same padding, but you're welcome to use any padding.\n",
    "* Add bias\n",
    "* Add a nonlinear activation to the convolution.\n",
    "* Apply Max Pooling using `pool_ksize` and `pool_strides`.\n",
    " * We recommend you use same padding, but you're welcome to use any padding.\n",
    "\n",
    "**Note:** You **can't** use [TensorFlow Layers](https://www.tensorflow.org/api_docs/python/tf/layers) or [TensorFlow Layers (contrib)](https://www.tensorflow.org/api_guides/python/contrib.layers) for **this** layer, but you can still use TensorFlow's [Neural Network](https://www.tensorflow.org/api_docs/python/tf/nn) package. You may still use the shortcut option for all the **other** layers."
   ]
  },
  {
   "cell_type": "code",
   "execution_count": 14,
   "metadata": {},
   "outputs": [
    {
     "name": "stdout",
     "output_type": "stream",
     "text": [
      "Tests Passed\n"
     ]
    }
   ],
   "source": [
    "def conv2d_maxpool(x_tensor, conv_num_outputs, conv_ksize, conv_strides, pool_ksize, pool_strides):\n",
    "    \"\"\"\n",
    "    Apply convolution then max pooling to x_tensor\n",
    "    :param x_tensor: TensorFlow Tensor\n",
    "    :param conv_num_outputs: Number of outputs for the convolutional layer\n",
    "    :param conv_ksize: kernal size 2-D Tuple for the convolutional layer\n",
    "    :param conv_strides: Stride 2-D Tuple for convolution\n",
    "    :param pool_ksize: kernal size 2-D Tuple for pool\n",
    "    :param pool_strides: Stride 2-D Tuple for pool\n",
    "    : return: A tensor that represents convolution and max pooling of x_tensor\n",
    "    \"\"\"\n",
    "    # TODO: Implement Function\n",
    "    w = tf.Variable(tf.random_normal([conv_ksize[0], conv_ksize[1], x_tensor.get_shape().as_list()[3], conv_num_outputs], stddev=0.1))\n",
    "    b = tf.Variable(tf.random_normal([conv_num_outputs], stddev=0.1))\n",
    "    x_tensor = tf.nn.conv2d(x_tensor, w, [1, conv_strides[0], conv_strides[1], 1], padding = 'SAME')\n",
    "    x_tensor = tf.nn.bias_add(x_tensor, b)\n",
    "    x_tensor = tf.nn.relu(x_tensor)\n",
    "    x_tensor = tf.nn.max_pool(x_tensor, [1,pool_ksize[0], pool_ksize[1], 1], [1,pool_strides[0], pool_strides[1], 1], 'SAME')\n",
    "    \n",
    "    return x_tensor\n",
    "\n",
    "\n",
    "\"\"\"\n",
    "DON'T MODIFY ANYTHING IN THIS CELL THAT IS BELOW THIS LINE\n",
    "\"\"\"\n",
    "tests.test_con_pool(conv2d_maxpool)"
   ]
  },
  {
   "cell_type": "markdown",
   "metadata": {},
   "source": [
    "### Flatten Layer\n",
    "Implement the `flatten` function to change the dimension of `x_tensor` from a 4-D tensor to a 2-D tensor.  The output should be the shape (*Batch Size*, *Flattened Image Size*). Shortcut option: you can use classes from the [TensorFlow Layers](https://www.tensorflow.org/api_docs/python/tf/layers) or [TensorFlow Layers (contrib)](https://www.tensorflow.org/api_guides/python/contrib.layers) packages for this layer. For more of a challenge, only use other TensorFlow packages."
   ]
  },
  {
   "cell_type": "code",
   "execution_count": 16,
   "metadata": {},
   "outputs": [
    {
     "name": "stdout",
     "output_type": "stream",
     "text": [
      "Tests Passed\n"
     ]
    }
   ],
   "source": [
    "def flatten(x_tensor):\n",
    "    \"\"\"\n",
    "    Flatten x_tensor to (Batch Size, Flattened Image Size)\n",
    "    : x_tensor: A tensor of size (Batch Size, ...), where ... are the image dimensions.\n",
    "    : return: A tensor of size (Batch Size, Flattened Image Size).\n",
    "    \"\"\"\n",
    "    # TODO: Implement Function\n",
    "    return tf.contrib.layers.flatten(x_tensor)\n",
    "\n",
    "\n",
    "\"\"\"\n",
    "DON'T MODIFY ANYTHING IN THIS CELL THAT IS BELOW THIS LINE\n",
    "\"\"\"\n",
    "tests.test_flatten(flatten)"
   ]
  },
  {
   "cell_type": "markdown",
   "metadata": {},
   "source": [
    "### Fully-Connected Layer\n",
    "Implement the `fully_conn` function to apply a fully connected layer to `x_tensor` with the shape (*Batch Size*, *num_outputs*). Shortcut option: you can use classes from the [TensorFlow Layers](https://www.tensorflow.org/api_docs/python/tf/layers) or [TensorFlow Layers (contrib)](https://www.tensorflow.org/api_guides/python/contrib.layers) packages for this layer. For more of a challenge, only use other TensorFlow packages."
   ]
  },
  {
   "cell_type": "code",
   "execution_count": 17,
   "metadata": {},
   "outputs": [
    {
     "name": "stdout",
     "output_type": "stream",
     "text": [
      "Tests Passed\n"
     ]
    }
   ],
   "source": [
    "def fully_conn(x_tensor, num_outputs):\n",
    "    \"\"\"\n",
    "    Apply a fully connected layer to x_tensor using weight and bias\n",
    "    : x_tensor: A 2-D tensor where the first dimension is batch size.\n",
    "    : num_outputs: The number of output that the new tensor should be.\n",
    "    : return: A 2-D tensor where the second dimension is num_outputs.\n",
    "    \"\"\"\n",
    "    # TODO: Implement Function\n",
    "    return tf.contrib.layers.fully_connected(x_tensor, num_outputs, tf.nn.relu)\n",
    "\n",
    "\n",
    "\"\"\"\n",
    "DON'T MODIFY ANYTHING IN THIS CELL THAT IS BELOW THIS LINE\n",
    "\"\"\"\n",
    "tests.test_fully_conn(fully_conn)"
   ]
  },
  {
   "cell_type": "markdown",
   "metadata": {},
   "source": [
    "### Output Layer\n",
    "Implement the `output` function to apply a fully connected layer to `x_tensor` with the shape (*Batch Size*, *num_outputs*). Shortcut option: you can use classes from the [TensorFlow Layers](https://www.tensorflow.org/api_docs/python/tf/layers) or [TensorFlow Layers (contrib)](https://www.tensorflow.org/api_guides/python/contrib.layers) packages for this layer. For more of a challenge, only use other TensorFlow packages.\n",
    "\n",
    "**Note:** Activation, softmax, or cross entropy should **not** be applied to this."
   ]
  },
  {
   "cell_type": "code",
   "execution_count": 18,
   "metadata": {},
   "outputs": [
    {
     "name": "stdout",
     "output_type": "stream",
     "text": [
      "Tests Passed\n"
     ]
    }
   ],
   "source": [
    "def output(x_tensor, num_outputs):\n",
    "    \"\"\"\n",
    "    Apply a output layer to x_tensor using weight and bias\n",
    "    : x_tensor: A 2-D tensor where the first dimension is batch size.\n",
    "    : num_outputs: The number of output that the new tensor should be.\n",
    "    : return: A 2-D tensor where the second dimension is num_outputs.\n",
    "    \"\"\"\n",
    "    # TODO: Implement Function\n",
    "    return tf.contrib.layers.fully_connected(x_tensor, num_outputs)\n",
    "\n",
    "\n",
    "\"\"\"\n",
    "DON'T MODIFY ANYTHING IN THIS CELL THAT IS BELOW THIS LINE\n",
    "\"\"\"\n",
    "tests.test_output(output)"
   ]
  },
  {
   "cell_type": "markdown",
   "metadata": {},
   "source": [
    "### Create Convolutional Model\n",
    "Implement the function `conv_net` to create a convolutional neural network model. The function takes in a batch of images, `x`, and outputs logits.  Use the layers you created above to create this model:\n",
    "\n",
    "* Apply 1, 2, or 3 Convolution and Max Pool layers\n",
    "* Apply a Flatten Layer\n",
    "* Apply 1, 2, or 3 Fully Connected Layers\n",
    "* Apply an Output Layer\n",
    "* Return the output\n",
    "* Apply [TensorFlow's Dropout](https://www.tensorflow.org/api_docs/python/tf/nn/dropout) to one or more layers in the model using `keep_prob`. "
   ]
  },
  {
   "cell_type": "code",
   "execution_count": 19,
   "metadata": {},
   "outputs": [
    {
     "name": "stdout",
     "output_type": "stream",
     "text": [
      "Neural Network Built!\n"
     ]
    }
   ],
   "source": [
    "def conv_net(x, keep_prob):\n",
    "    \"\"\"\n",
    "    Create a convolutional neural network model\n",
    "    : x: Placeholder tensor that holds image data.\n",
    "    : keep_prob: Placeholder tensor that hold dropout keep probability.\n",
    "    : return: Tensor that represents logits\n",
    "    \"\"\"\n",
    "    \n",
    "    \n",
    "    conv_ksize       = (8, 8)\n",
    "    conv_strides     = (conv_ksize[0]/2, conv_ksize[1]/2) \n",
    "    conv_num_outputs = conv_ksize[0]*conv_ksize[1]     \n",
    "    \n",
    "    pool_ksize       = (conv_strides[0], conv_strides[1])\n",
    "    pool_strides     = (pool_ksize[0]/2, pool_ksize[1]/2) \n",
    "    \n",
    "    num_outputs      = 10\n",
    "    \n",
    "       \n",
    "    conv2d_maxpool_layer_1 = conv2d_maxpool(x, conv_num_outputs, conv_ksize, conv_strides, pool_ksize, pool_strides)\n",
    "    \n",
    "    conv2d_maxpool_layer_2 = conv2d_maxpool(conv2d_maxpool_layer_1, conv_num_outputs, conv_ksize, conv_strides, pool_ksize, pool_strides)\n",
    "    \n",
    "    conv2d_maxpool_layer_3 = conv2d_maxpool(conv2d_maxpool_layer_2, conv_num_outputs, conv_ksize, conv_strides, pool_ksize, pool_strides)\n",
    "    \n",
    "\n",
    "    \n",
    "    flatten_layer = flatten(conv2d_maxpool_layer_3)\n",
    "    flatten_layer = tf.nn.dropout(flatten_layer, keep_prob)\n",
    "    \n",
    "    \n",
    "    fully_conn_layer = fully_conn(flatten_layer, num_outputs*2)\n",
    "    fully_conn_layer = tf.nn.dropout(fully_conn_layer, keep_prob)\n",
    "    \n",
    "    \n",
    "    output_layer = output(fully_conn_layer, num_outputs)\n",
    "    \n",
    "    \n",
    "    # TODO: return output\n",
    "    \n",
    "    return output_layer\n",
    "\n",
    "\n",
    "\"\"\"\n",
    "DON'T MODIFY ANYTHING IN THIS CELL THAT IS BELOW THIS LINE\n",
    "\"\"\"\n",
    "\n",
    "##############################\n",
    "## Build the Neural Network ##\n",
    "##############################\n",
    "\n",
    "# Remove previous weights, bias, inputs, etc..\n",
    "tf.reset_default_graph()\n",
    "\n",
    "# Inputs\n",
    "x = neural_net_image_input((32, 32, 3))\n",
    "y = neural_net_label_input(10)\n",
    "keep_prob = neural_net_keep_prob_input()\n",
    "\n",
    "# Model\n",
    "logits = conv_net(x, keep_prob)\n",
    "\n",
    "# Name logits Tensor, so that is can be loaded from disk after training\n",
    "logits = tf.identity(logits, name='logits')\n",
    "\n",
    "# Loss and Optimizer\n",
    "cost = tf.reduce_mean(tf.nn.softmax_cross_entropy_with_logits(logits=logits, labels=y))\n",
    "optimizer = tf.train.AdamOptimizer().minimize(cost)\n",
    "\n",
    "# Accuracy\n",
    "correct_pred = tf.equal(tf.argmax(logits, 1), tf.argmax(y, 1))\n",
    "accuracy = tf.reduce_mean(tf.cast(correct_pred, tf.float32), name='accuracy')\n",
    "\n",
    "tests.test_conv_net(conv_net)"
   ]
  },
  {
   "cell_type": "markdown",
   "metadata": {},
   "source": [
    "## Train the Neural Network\n",
    "### Single Optimization\n",
    "Implement the function `train_neural_network` to do a single optimization.  The optimization should use `optimizer` to optimize in `session` with a `feed_dict` of the following:\n",
    "* `x` for image input\n",
    "* `y` for labels\n",
    "* `keep_prob` for keep probability for dropout\n",
    "\n",
    "This function will be called for each batch, so `tf.global_variables_initializer()` has already been called.\n",
    "\n",
    "Note: Nothing needs to be returned. This function is only optimizing the neural network."
   ]
  },
  {
   "cell_type": "code",
   "execution_count": 20,
   "metadata": {},
   "outputs": [
    {
     "name": "stdout",
     "output_type": "stream",
     "text": [
      "Tests Passed\n"
     ]
    }
   ],
   "source": [
    "def train_neural_network(session, optimizer, keep_probability, feature_batch, label_batch):\n",
    "    \"\"\"\n",
    "    Optimize the session on a batch of images and labels\n",
    "    : session: Current TensorFlow session\n",
    "    : optimizer: TensorFlow optimizer function\n",
    "    : keep_probability: keep probability\n",
    "    : feature_batch: Batch of Numpy image data\n",
    "    : label_batch: Batch of Numpy label data\n",
    "    \"\"\"\n",
    "    # TODO: Implement Function\n",
    "    session.run(optimizer, feed_dict={x: feature_batch, y: label_batch, keep_prob: keep_probability})\n",
    "    pass\n",
    "\n",
    "\n",
    "\"\"\"\n",
    "DON'T MODIFY ANYTHING IN THIS CELL THAT IS BELOW THIS LINE\n",
    "\"\"\"\n",
    "tests.test_train_nn(train_neural_network)"
   ]
  },
  {
   "cell_type": "markdown",
   "metadata": {},
   "source": [
    "### Show Stats\n",
    "Implement the function `print_stats` to print loss and validation accuracy.  Use the global variables `valid_features` and `valid_labels` to calculate validation accuracy.  Use a keep probability of `1.0` to calculate the loss and validation accuracy."
   ]
  },
  {
   "cell_type": "code",
   "execution_count": 29,
   "metadata": {
    "collapsed": true
   },
   "outputs": [],
   "source": [
    "def print_stats(session, feature_batch, label_batch, cost, accuracy):\n",
    "    \"\"\"\n",
    "    Print information about loss and validation accuracy\n",
    "    : session: Current TensorFlow session\n",
    "    : feature_batch: Batch of Numpy image data\n",
    "    : label_batch: Batch of Numpy label data\n",
    "    : cost: TensorFlow cost function\n",
    "    : accuracy: TensorFlow accuracy function\n",
    "    \"\"\"\n",
    "    # TODO: Implement Function\n",
    "    cost = sess.run(cost, feed_dict={x: feature_batch, y: label_batch, keep_prob: 1.})\n",
    "    acc = sess.run(accuracy, feed_dict={x: valid_features, y: valid_labels, keep_prob: 1.})\n",
    "    print('Loss: ', cost, ' Accuracy: ', acc)\n",
    "    pass"
   ]
  },
  {
   "cell_type": "markdown",
   "metadata": {},
   "source": [
    "### Hyperparameters\n",
    "Tune the following parameters:\n",
    "* Set `epochs` to the number of iterations until the network stops learning or start overfitting\n",
    "* Set `batch_size` to the highest number that your machine has memory for.  Most people set them to common sizes of memory:\n",
    " * 64\n",
    " * 128\n",
    " * 256\n",
    " * ...\n",
    "* Set `keep_probability` to the probability of keeping a node using dropout"
   ]
  },
  {
   "cell_type": "code",
   "execution_count": 34,
   "metadata": {
    "collapsed": true
   },
   "outputs": [],
   "source": [
    "# TODO: Tune Parameters\n",
    "epochs = 50\n",
    "batch_size = 445\n",
    "keep_probability = 0.75"
   ]
  },
  {
   "cell_type": "markdown",
   "metadata": {},
   "source": [
    "### Train on a Single CIFAR-10 Batch\n",
    "Instead of training the neural network on all the CIFAR-10 batches of data, let's use a single batch. This should save time while you iterate on the model to get a better accuracy.  Once the final validation accuracy is 50% or greater, run the model on all the data in the next section."
   ]
  },
  {
   "cell_type": "code",
   "execution_count": 35,
   "metadata": {},
   "outputs": [
    {
     "name": "stdout",
     "output_type": "stream",
     "text": [
      "Checking the Training on a Single Batch...\n",
      "Epoch  1, CIFAR-10 Batch 1:  Loss:  2.30033  Accuracy:  0.1322\n",
      "Epoch  2, CIFAR-10 Batch 1:  Loss:  2.25116  Accuracy:  0.16\n",
      "Epoch  3, CIFAR-10 Batch 1:  Loss:  2.21067  Accuracy:  0.1608\n",
      "Epoch  4, CIFAR-10 Batch 1:  Loss:  2.18572  Accuracy:  0.1906\n",
      "Epoch  5, CIFAR-10 Batch 1:  Loss:  2.15553  Accuracy:  0.2276\n",
      "Epoch  6, CIFAR-10 Batch 1:  Loss:  2.12517  Accuracy:  0.2608\n",
      "Epoch  7, CIFAR-10 Batch 1:  Loss:  2.01823  Accuracy:  0.2916\n",
      "Epoch  8, CIFAR-10 Batch 1:  Loss:  1.95659  Accuracy:  0.3204\n",
      "Epoch  9, CIFAR-10 Batch 1:  Loss:  1.91541  Accuracy:  0.3284\n",
      "Epoch 10, CIFAR-10 Batch 1:  Loss:  1.7926  Accuracy:  0.3502\n",
      "Epoch 11, CIFAR-10 Batch 1:  Loss:  1.75049  Accuracy:  0.3606\n",
      "Epoch 12, CIFAR-10 Batch 1:  Loss:  1.71376  Accuracy:  0.3684\n",
      "Epoch 13, CIFAR-10 Batch 1:  Loss:  1.66219  Accuracy:  0.3826\n",
      "Epoch 14, CIFAR-10 Batch 1:  Loss:  1.63662  Accuracy:  0.382\n",
      "Epoch 15, CIFAR-10 Batch 1:  Loss:  1.58592  Accuracy:  0.3954\n",
      "Epoch 16, CIFAR-10 Batch 1:  Loss:  1.55357  Accuracy:  0.4046\n",
      "Epoch 17, CIFAR-10 Batch 1:  Loss:  1.49573  Accuracy:  0.4184\n",
      "Epoch 18, CIFAR-10 Batch 1:  Loss:  1.45283  Accuracy:  0.4288\n",
      "Epoch 19, CIFAR-10 Batch 1:  Loss:  1.39543  Accuracy:  0.4346\n",
      "Epoch 20, CIFAR-10 Batch 1:  Loss:  1.37783  Accuracy:  0.4274\n",
      "Epoch 21, CIFAR-10 Batch 1:  Loss:  1.32277  Accuracy:  0.4476\n",
      "Epoch 22, CIFAR-10 Batch 1:  Loss:  1.30467  Accuracy:  0.4458\n",
      "Epoch 23, CIFAR-10 Batch 1:  Loss:  1.27825  Accuracy:  0.4368\n",
      "Epoch 24, CIFAR-10 Batch 1:  Loss:  1.23467  Accuracy:  0.459\n",
      "Epoch 25, CIFAR-10 Batch 1:  Loss:  1.20596  Accuracy:  0.4514\n",
      "Epoch 26, CIFAR-10 Batch 1:  Loss:  1.17113  Accuracy:  0.455\n",
      "Epoch 27, CIFAR-10 Batch 1:  Loss:  1.14992  Accuracy:  0.4538\n",
      "Epoch 28, CIFAR-10 Batch 1:  Loss:  1.11302  Accuracy:  0.4664\n",
      "Epoch 29, CIFAR-10 Batch 1:  Loss:  1.08774  Accuracy:  0.4688\n",
      "Epoch 30, CIFAR-10 Batch 1:  Loss:  1.05784  Accuracy:  0.4772\n",
      "Epoch 31, CIFAR-10 Batch 1:  Loss:  1.0156  Accuracy:  0.4764\n",
      "Epoch 32, CIFAR-10 Batch 1:  Loss:  0.979147  Accuracy:  0.4772\n",
      "Epoch 33, CIFAR-10 Batch 1:  Loss:  0.953273  Accuracy:  0.482\n",
      "Epoch 34, CIFAR-10 Batch 1:  Loss:  0.939288  Accuracy:  0.4812\n",
      "Epoch 35, CIFAR-10 Batch 1:  Loss:  0.897638  Accuracy:  0.482\n",
      "Epoch 36, CIFAR-10 Batch 1:  Loss:  0.89729  Accuracy:  0.479\n",
      "Epoch 37, CIFAR-10 Batch 1:  Loss:  0.861306  Accuracy:  0.4854\n",
      "Epoch 38, CIFAR-10 Batch 1:  Loss:  0.849279  Accuracy:  0.4862\n",
      "Epoch 39, CIFAR-10 Batch 1:  Loss:  0.804757  Accuracy:  0.4938\n",
      "Epoch 40, CIFAR-10 Batch 1:  Loss:  0.779661  Accuracy:  0.4944\n",
      "Epoch 41, CIFAR-10 Batch 1:  Loss:  0.770856  Accuracy:  0.4864\n",
      "Epoch 42, CIFAR-10 Batch 1:  Loss:  0.780868  Accuracy:  0.4902\n",
      "Epoch 43, CIFAR-10 Batch 1:  Loss:  0.738737  Accuracy:  0.5016\n",
      "Epoch 44, CIFAR-10 Batch 1:  Loss:  0.741316  Accuracy:  0.5028\n",
      "Epoch 45, CIFAR-10 Batch 1:  Loss:  0.702224  Accuracy:  0.5086\n",
      "Epoch 46, CIFAR-10 Batch 1:  Loss:  0.689424  Accuracy:  0.4986\n",
      "Epoch 47, CIFAR-10 Batch 1:  Loss:  0.663721  Accuracy:  0.4972\n",
      "Epoch 48, CIFAR-10 Batch 1:  Loss:  0.662875  Accuracy:  0.4942\n",
      "Epoch 49, CIFAR-10 Batch 1:  Loss:  0.702592  Accuracy:  0.4768\n",
      "Epoch 50, CIFAR-10 Batch 1:  Loss:  0.713345  Accuracy:  0.5118\n"
     ]
    }
   ],
   "source": [
    "\"\"\"\n",
    "DON'T MODIFY ANYTHING IN THIS CELL\n",
    "\"\"\"\n",
    "print('Checking the Training on a Single Batch...')\n",
    "with tf.Session() as sess:\n",
    "    # Initializing the variables\n",
    "    sess.run(tf.global_variables_initializer())\n",
    "    \n",
    "    # Training cycle\n",
    "    for epoch in range(epochs):\n",
    "        batch_i = 1\n",
    "        for batch_features, batch_labels in helper.load_preprocess_training_batch(batch_i, batch_size):\n",
    "            train_neural_network(sess, optimizer, keep_probability, batch_features, batch_labels)\n",
    "        print('Epoch {:>2}, CIFAR-10 Batch {}:  '.format(epoch + 1, batch_i), end='')\n",
    "        print_stats(sess, batch_features, batch_labels, cost, accuracy)"
   ]
  },
  {
   "cell_type": "markdown",
   "metadata": {},
   "source": [
    "### Fully Train the Model\n",
    "Now that you got a good accuracy with a single CIFAR-10 batch, try it with all five batches."
   ]
  },
  {
   "cell_type": "code",
   "execution_count": 36,
   "metadata": {},
   "outputs": [
    {
     "name": "stdout",
     "output_type": "stream",
     "text": [
      "Training...\n",
      "Epoch  1, CIFAR-10 Batch 1:  Loss:  2.27424  Accuracy:  0.1736\n",
      "Epoch  1, CIFAR-10 Batch 2:  Loss:  2.17798  Accuracy:  0.201\n",
      "Epoch  1, CIFAR-10 Batch 3:  Loss:  2.10445  Accuracy:  0.2174\n",
      "Epoch  1, CIFAR-10 Batch 4:  Loss:  2.10191  Accuracy:  0.2204\n",
      "Epoch  1, CIFAR-10 Batch 5:  Loss:  2.02257  Accuracy:  0.2836\n",
      "Epoch  2, CIFAR-10 Batch 1:  Loss:  1.98769  Accuracy:  0.3148\n",
      "Epoch  2, CIFAR-10 Batch 2:  Loss:  1.86809  Accuracy:  0.3396\n",
      "Epoch  2, CIFAR-10 Batch 3:  Loss:  1.75701  Accuracy:  0.3626\n",
      "Epoch  2, CIFAR-10 Batch 4:  Loss:  1.79032  Accuracy:  0.3568\n",
      "Epoch  2, CIFAR-10 Batch 5:  Loss:  1.69325  Accuracy:  0.377\n",
      "Epoch  3, CIFAR-10 Batch 1:  Loss:  1.83714  Accuracy:  0.3892\n",
      "Epoch  3, CIFAR-10 Batch 2:  Loss:  1.71356  Accuracy:  0.3958\n",
      "Epoch  3, CIFAR-10 Batch 3:  Loss:  1.50031  Accuracy:  0.3858\n",
      "Epoch  3, CIFAR-10 Batch 4:  Loss:  1.63469  Accuracy:  0.3782\n",
      "Epoch  3, CIFAR-10 Batch 5:  Loss:  1.54904  Accuracy:  0.4128\n",
      "Epoch  4, CIFAR-10 Batch 1:  Loss:  1.72355  Accuracy:  0.4286\n",
      "Epoch  4, CIFAR-10 Batch 2:  Loss:  1.62879  Accuracy:  0.4336\n",
      "Epoch  4, CIFAR-10 Batch 3:  Loss:  1.32642  Accuracy:  0.435\n",
      "Epoch  4, CIFAR-10 Batch 4:  Loss:  1.50475  Accuracy:  0.4416\n",
      "Epoch  4, CIFAR-10 Batch 5:  Loss:  1.415  Accuracy:  0.4492\n",
      "Epoch  5, CIFAR-10 Batch 1:  Loss:  1.61649  Accuracy:  0.4558\n",
      "Epoch  5, CIFAR-10 Batch 2:  Loss:  1.49859  Accuracy:  0.4708\n",
      "Epoch  5, CIFAR-10 Batch 3:  Loss:  1.20345  Accuracy:  0.4642\n",
      "Epoch  5, CIFAR-10 Batch 4:  Loss:  1.4163  Accuracy:  0.4686\n",
      "Epoch  5, CIFAR-10 Batch 5:  Loss:  1.34155  Accuracy:  0.4696\n",
      "Epoch  6, CIFAR-10 Batch 1:  Loss:  1.4545  Accuracy:  0.482\n",
      "Epoch  6, CIFAR-10 Batch 2:  Loss:  1.35889  Accuracy:  0.4724\n",
      "Epoch  6, CIFAR-10 Batch 3:  Loss:  1.14688  Accuracy:  0.4792\n",
      "Epoch  6, CIFAR-10 Batch 4:  Loss:  1.33598  Accuracy:  0.4888\n",
      "Epoch  6, CIFAR-10 Batch 5:  Loss:  1.25399  Accuracy:  0.4832\n",
      "Epoch  7, CIFAR-10 Batch 1:  Loss:  1.3925  Accuracy:  0.5\n",
      "Epoch  7, CIFAR-10 Batch 2:  Loss:  1.30452  Accuracy:  0.485\n",
      "Epoch  7, CIFAR-10 Batch 3:  Loss:  1.07414  Accuracy:  0.4826\n",
      "Epoch  7, CIFAR-10 Batch 4:  Loss:  1.23148  Accuracy:  0.499\n",
      "Epoch  7, CIFAR-10 Batch 5:  Loss:  1.196  Accuracy:  0.511\n",
      "Epoch  8, CIFAR-10 Batch 1:  Loss:  1.3456  Accuracy:  0.5072\n",
      "Epoch  8, CIFAR-10 Batch 2:  Loss:  1.25297  Accuracy:  0.4926\n",
      "Epoch  8, CIFAR-10 Batch 3:  Loss:  1.02155  Accuracy:  0.5044\n",
      "Epoch  8, CIFAR-10 Batch 4:  Loss:  1.17356  Accuracy:  0.513\n",
      "Epoch  8, CIFAR-10 Batch 5:  Loss:  1.16818  Accuracy:  0.5032\n",
      "Epoch  9, CIFAR-10 Batch 1:  Loss:  1.29531  Accuracy:  0.5136\n",
      "Epoch  9, CIFAR-10 Batch 2:  Loss:  1.19805  Accuracy:  0.5004\n",
      "Epoch  9, CIFAR-10 Batch 3:  Loss:  0.94201  Accuracy:  0.5102\n",
      "Epoch  9, CIFAR-10 Batch 4:  Loss:  1.10803  Accuracy:  0.5202\n",
      "Epoch  9, CIFAR-10 Batch 5:  Loss:  1.1236  Accuracy:  0.51\n",
      "Epoch 10, CIFAR-10 Batch 1:  Loss:  1.24808  Accuracy:  0.5194\n",
      "Epoch 10, CIFAR-10 Batch 2:  Loss:  1.14869  Accuracy:  0.5104\n",
      "Epoch 10, CIFAR-10 Batch 3:  Loss:  0.942189  Accuracy:  0.5166\n",
      "Epoch 10, CIFAR-10 Batch 4:  Loss:  1.08177  Accuracy:  0.5298\n",
      "Epoch 10, CIFAR-10 Batch 5:  Loss:  1.0458  Accuracy:  0.5262\n",
      "Epoch 11, CIFAR-10 Batch 1:  Loss:  1.21561  Accuracy:  0.528\n",
      "Epoch 11, CIFAR-10 Batch 2:  Loss:  1.08907  Accuracy:  0.5152\n",
      "Epoch 11, CIFAR-10 Batch 3:  Loss:  0.823215  Accuracy:  0.5352\n",
      "Epoch 11, CIFAR-10 Batch 4:  Loss:  1.06046  Accuracy:  0.5396\n",
      "Epoch 11, CIFAR-10 Batch 5:  Loss:  1.01187  Accuracy:  0.5368\n",
      "Epoch 12, CIFAR-10 Batch 1:  Loss:  1.1592  Accuracy:  0.528\n",
      "Epoch 12, CIFAR-10 Batch 2:  Loss:  1.08578  Accuracy:  0.5182\n",
      "Epoch 12, CIFAR-10 Batch 3:  Loss:  0.840349  Accuracy:  0.5326\n",
      "Epoch 12, CIFAR-10 Batch 4:  Loss:  1.02606  Accuracy:  0.5426\n",
      "Epoch 12, CIFAR-10 Batch 5:  Loss:  0.95698  Accuracy:  0.541\n",
      "Epoch 13, CIFAR-10 Batch 1:  Loss:  1.14572  Accuracy:  0.5364\n",
      "Epoch 13, CIFAR-10 Batch 2:  Loss:  1.05285  Accuracy:  0.5268\n",
      "Epoch 13, CIFAR-10 Batch 3:  Loss:  0.797005  Accuracy:  0.5366\n",
      "Epoch 13, CIFAR-10 Batch 4:  Loss:  0.976088  Accuracy:  0.5472\n",
      "Epoch 13, CIFAR-10 Batch 5:  Loss:  0.92214  Accuracy:  0.5504\n",
      "Epoch 14, CIFAR-10 Batch 1:  Loss:  1.09493  Accuracy:  0.5392\n",
      "Epoch 14, CIFAR-10 Batch 2:  Loss:  0.976346  Accuracy:  0.5372\n",
      "Epoch 14, CIFAR-10 Batch 3:  Loss:  0.772975  Accuracy:  0.549\n",
      "Epoch 14, CIFAR-10 Batch 4:  Loss:  0.962179  Accuracy:  0.55\n",
      "Epoch 14, CIFAR-10 Batch 5:  Loss:  0.872495  Accuracy:  0.5508\n",
      "Epoch 15, CIFAR-10 Batch 1:  Loss:  1.04736  Accuracy:  0.5352\n",
      "Epoch 15, CIFAR-10 Batch 2:  Loss:  0.950623  Accuracy:  0.5342\n",
      "Epoch 15, CIFAR-10 Batch 3:  Loss:  0.756275  Accuracy:  0.5488\n",
      "Epoch 15, CIFAR-10 Batch 4:  Loss:  0.943006  Accuracy:  0.56\n",
      "Epoch 15, CIFAR-10 Batch 5:  Loss:  0.866171  Accuracy:  0.5548\n",
      "Epoch 16, CIFAR-10 Batch 1:  Loss:  1.04707  Accuracy:  0.5416\n",
      "Epoch 16, CIFAR-10 Batch 2:  Loss:  0.929999  Accuracy:  0.5372\n",
      "Epoch 16, CIFAR-10 Batch 3:  Loss:  0.726398  Accuracy:  0.5488\n",
      "Epoch 16, CIFAR-10 Batch 4:  Loss:  0.909921  Accuracy:  0.5624\n",
      "Epoch 16, CIFAR-10 Batch 5:  Loss:  0.82864  Accuracy:  0.5548\n",
      "Epoch 17, CIFAR-10 Batch 1:  Loss:  1.00807  Accuracy:  0.5504\n",
      "Epoch 17, CIFAR-10 Batch 2:  Loss:  0.901869  Accuracy:  0.5562\n",
      "Epoch 17, CIFAR-10 Batch 3:  Loss:  0.691863  Accuracy:  0.5504\n",
      "Epoch 17, CIFAR-10 Batch 4:  Loss:  0.893825  Accuracy:  0.57\n",
      "Epoch 17, CIFAR-10 Batch 5:  Loss:  0.815771  Accuracy:  0.5622\n",
      "Epoch 18, CIFAR-10 Batch 1:  Loss:  1.03449  Accuracy:  0.5304\n",
      "Epoch 18, CIFAR-10 Batch 2:  Loss:  0.88969  Accuracy:  0.5364\n",
      "Epoch 18, CIFAR-10 Batch 3:  Loss:  0.668884  Accuracy:  0.5506\n",
      "Epoch 18, CIFAR-10 Batch 4:  Loss:  0.87309  Accuracy:  0.5676\n",
      "Epoch 18, CIFAR-10 Batch 5:  Loss:  0.798782  Accuracy:  0.5698\n",
      "Epoch 19, CIFAR-10 Batch 1:  Loss:  1.00494  Accuracy:  0.5424\n",
      "Epoch 19, CIFAR-10 Batch 2:  Loss:  0.923758  Accuracy:  0.5382\n",
      "Epoch 19, CIFAR-10 Batch 3:  Loss:  0.656451  Accuracy:  0.5568\n",
      "Epoch 19, CIFAR-10 Batch 4:  Loss:  0.809633  Accuracy:  0.5672\n",
      "Epoch 19, CIFAR-10 Batch 5:  Loss:  0.772971  Accuracy:  0.5662\n",
      "Epoch 20, CIFAR-10 Batch 1:  Loss:  0.95195  Accuracy:  0.5518\n",
      "Epoch 20, CIFAR-10 Batch 2:  Loss:  0.841044  Accuracy:  0.5576\n",
      "Epoch 20, CIFAR-10 Batch 3:  Loss:  0.610181  Accuracy:  0.5704\n",
      "Epoch 20, CIFAR-10 Batch 4:  Loss:  0.800678  Accuracy:  0.5736\n",
      "Epoch 20, CIFAR-10 Batch 5:  Loss:  0.733596  Accuracy:  0.5688\n",
      "Epoch 21, CIFAR-10 Batch 1:  Loss:  0.926656  Accuracy:  0.5552\n",
      "Epoch 21, CIFAR-10 Batch 2:  Loss:  0.843976  Accuracy:  0.5522\n",
      "Epoch 21, CIFAR-10 Batch 3:  Loss:  0.594562  Accuracy:  0.5696\n",
      "Epoch 21, CIFAR-10 Batch 4:  Loss:  0.754001  Accuracy:  0.5744\n",
      "Epoch 21, CIFAR-10 Batch 5:  Loss:  0.704484  Accuracy:  0.574\n",
      "Epoch 22, CIFAR-10 Batch 1:  Loss:  0.897886  Accuracy:  0.5602\n",
      "Epoch 22, CIFAR-10 Batch 2:  Loss:  0.786247  Accuracy:  0.5662\n",
      "Epoch 22, CIFAR-10 Batch 3:  Loss:  0.590018  Accuracy:  0.5732\n",
      "Epoch 22, CIFAR-10 Batch 4:  Loss:  0.753777  Accuracy:  0.5738\n",
      "Epoch 22, CIFAR-10 Batch 5:  Loss:  0.700597  Accuracy:  0.5694\n",
      "Epoch 23, CIFAR-10 Batch 1:  Loss:  0.880338  Accuracy:  0.572\n",
      "Epoch 23, CIFAR-10 Batch 2:  Loss:  0.800927  Accuracy:  0.5692\n",
      "Epoch 23, CIFAR-10 Batch 3:  Loss:  0.535953  Accuracy:  0.5724\n",
      "Epoch 23, CIFAR-10 Batch 4:  Loss:  0.758607  Accuracy:  0.5708\n",
      "Epoch 23, CIFAR-10 Batch 5:  Loss:  0.671742  Accuracy:  0.578\n",
      "Epoch 24, CIFAR-10 Batch 1:  Loss:  0.852558  Accuracy:  0.5702\n",
      "Epoch 24, CIFAR-10 Batch 2:  Loss:  0.762316  Accuracy:  0.5628\n",
      "Epoch 24, CIFAR-10 Batch 3:  Loss:  0.546923  Accuracy:  0.579\n",
      "Epoch 24, CIFAR-10 Batch 4:  Loss:  0.725808  Accuracy:  0.5766\n",
      "Epoch 24, CIFAR-10 Batch 5:  Loss:  0.675038  Accuracy:  0.5822\n",
      "Epoch 25, CIFAR-10 Batch 1:  Loss:  0.830518  Accuracy:  0.5688\n",
      "Epoch 25, CIFAR-10 Batch 2:  Loss:  0.747956  Accuracy:  0.5682\n",
      "Epoch 25, CIFAR-10 Batch 3:  Loss:  0.527082  Accuracy:  0.5762\n",
      "Epoch 25, CIFAR-10 Batch 4:  Loss:  0.699809  Accuracy:  0.5792\n",
      "Epoch 25, CIFAR-10 Batch 5:  Loss:  0.64861  Accuracy:  0.5762\n",
      "Epoch 26, CIFAR-10 Batch 1:  Loss:  0.836735  Accuracy:  0.5734\n",
      "Epoch 26, CIFAR-10 Batch 2:  Loss:  0.715283  Accuracy:  0.5822\n",
      "Epoch 26, CIFAR-10 Batch 3:  Loss:  0.541336  Accuracy:  0.5864\n",
      "Epoch 26, CIFAR-10 Batch 4:  Loss:  0.659797  Accuracy:  0.5846\n",
      "Epoch 26, CIFAR-10 Batch 5:  Loss:  0.64356  Accuracy:  0.583\n"
     ]
    },
    {
     "name": "stdout",
     "output_type": "stream",
     "text": [
      "Epoch 27, CIFAR-10 Batch 1:  Loss:  0.802023  Accuracy:  0.5748\n",
      "Epoch 27, CIFAR-10 Batch 2:  Loss:  0.690205  Accuracy:  0.5746\n",
      "Epoch 27, CIFAR-10 Batch 3:  Loss:  0.50898  Accuracy:  0.5844\n",
      "Epoch 27, CIFAR-10 Batch 4:  Loss:  0.643993  Accuracy:  0.5818\n",
      "Epoch 27, CIFAR-10 Batch 5:  Loss:  0.618273  Accuracy:  0.5832\n",
      "Epoch 28, CIFAR-10 Batch 1:  Loss:  0.761245  Accuracy:  0.5732\n",
      "Epoch 28, CIFAR-10 Batch 2:  Loss:  0.673316  Accuracy:  0.5842\n",
      "Epoch 28, CIFAR-10 Batch 3:  Loss:  0.4867  Accuracy:  0.5902\n",
      "Epoch 28, CIFAR-10 Batch 4:  Loss:  0.636644  Accuracy:  0.5922\n",
      "Epoch 28, CIFAR-10 Batch 5:  Loss:  0.610534  Accuracy:  0.587\n",
      "Epoch 29, CIFAR-10 Batch 1:  Loss:  0.796402  Accuracy:  0.5634\n",
      "Epoch 29, CIFAR-10 Batch 2:  Loss:  0.688207  Accuracy:  0.562\n",
      "Epoch 29, CIFAR-10 Batch 3:  Loss:  0.482918  Accuracy:  0.5822\n",
      "Epoch 29, CIFAR-10 Batch 4:  Loss:  0.600058  Accuracy:  0.5864\n",
      "Epoch 29, CIFAR-10 Batch 5:  Loss:  0.574789  Accuracy:  0.5898\n",
      "Epoch 30, CIFAR-10 Batch 1:  Loss:  0.780074  Accuracy:  0.5652\n",
      "Epoch 30, CIFAR-10 Batch 2:  Loss:  0.672842  Accuracy:  0.556\n",
      "Epoch 30, CIFAR-10 Batch 3:  Loss:  0.474381  Accuracy:  0.5858\n",
      "Epoch 30, CIFAR-10 Batch 4:  Loss:  0.612098  Accuracy:  0.5864\n",
      "Epoch 30, CIFAR-10 Batch 5:  Loss:  0.566484  Accuracy:  0.584\n",
      "Epoch 31, CIFAR-10 Batch 1:  Loss:  0.726586  Accuracy:  0.5834\n",
      "Epoch 31, CIFAR-10 Batch 2:  Loss:  0.629744  Accuracy:  0.5758\n",
      "Epoch 31, CIFAR-10 Batch 3:  Loss:  0.45683  Accuracy:  0.5846\n",
      "Epoch 31, CIFAR-10 Batch 4:  Loss:  0.584286  Accuracy:  0.5838\n",
      "Epoch 31, CIFAR-10 Batch 5:  Loss:  0.544101  Accuracy:  0.591\n",
      "Epoch 32, CIFAR-10 Batch 1:  Loss:  0.724822  Accuracy:  0.5806\n",
      "Epoch 32, CIFAR-10 Batch 2:  Loss:  0.606309  Accuracy:  0.5734\n",
      "Epoch 32, CIFAR-10 Batch 3:  Loss:  0.438411  Accuracy:  0.5918\n",
      "Epoch 32, CIFAR-10 Batch 4:  Loss:  0.578561  Accuracy:  0.5874\n",
      "Epoch 32, CIFAR-10 Batch 5:  Loss:  0.534247  Accuracy:  0.5856\n",
      "Epoch 33, CIFAR-10 Batch 1:  Loss:  0.783418  Accuracy:  0.5656\n",
      "Epoch 33, CIFAR-10 Batch 2:  Loss:  0.608321  Accuracy:  0.5758\n",
      "Epoch 33, CIFAR-10 Batch 3:  Loss:  0.437437  Accuracy:  0.5886\n",
      "Epoch 33, CIFAR-10 Batch 4:  Loss:  0.539919  Accuracy:  0.5858\n",
      "Epoch 33, CIFAR-10 Batch 5:  Loss:  0.516841  Accuracy:  0.5908\n",
      "Epoch 34, CIFAR-10 Batch 1:  Loss:  0.724571  Accuracy:  0.5778\n",
      "Epoch 34, CIFAR-10 Batch 2:  Loss:  0.587633  Accuracy:  0.5836\n",
      "Epoch 34, CIFAR-10 Batch 3:  Loss:  0.437122  Accuracy:  0.5894\n",
      "Epoch 34, CIFAR-10 Batch 4:  Loss:  0.538126  Accuracy:  0.5918\n",
      "Epoch 34, CIFAR-10 Batch 5:  Loss:  0.514922  Accuracy:  0.585\n",
      "Epoch 35, CIFAR-10 Batch 1:  Loss:  0.713946  Accuracy:  0.5866\n",
      "Epoch 35, CIFAR-10 Batch 2:  Loss:  0.625248  Accuracy:  0.5816\n",
      "Epoch 35, CIFAR-10 Batch 3:  Loss:  0.443199  Accuracy:  0.5864\n",
      "Epoch 35, CIFAR-10 Batch 4:  Loss:  0.541085  Accuracy:  0.596\n",
      "Epoch 35, CIFAR-10 Batch 5:  Loss:  0.484905  Accuracy:  0.5896\n",
      "Epoch 36, CIFAR-10 Batch 1:  Loss:  0.69773  Accuracy:  0.575\n",
      "Epoch 36, CIFAR-10 Batch 2:  Loss:  0.615331  Accuracy:  0.565\n",
      "Epoch 36, CIFAR-10 Batch 3:  Loss:  0.447636  Accuracy:  0.5876\n",
      "Epoch 36, CIFAR-10 Batch 4:  Loss:  0.531761  Accuracy:  0.589\n",
      "Epoch 36, CIFAR-10 Batch 5:  Loss:  0.474011  Accuracy:  0.5994\n",
      "Epoch 37, CIFAR-10 Batch 1:  Loss:  0.682417  Accuracy:  0.574\n",
      "Epoch 37, CIFAR-10 Batch 2:  Loss:  0.580303  Accuracy:  0.5792\n",
      "Epoch 37, CIFAR-10 Batch 3:  Loss:  0.394117  Accuracy:  0.5866\n",
      "Epoch 37, CIFAR-10 Batch 4:  Loss:  0.512155  Accuracy:  0.5922\n",
      "Epoch 37, CIFAR-10 Batch 5:  Loss:  0.481389  Accuracy:  0.5982\n",
      "Epoch 38, CIFAR-10 Batch 1:  Loss:  0.668258  Accuracy:  0.5866\n",
      "Epoch 38, CIFAR-10 Batch 2:  Loss:  0.565551  Accuracy:  0.574\n",
      "Epoch 38, CIFAR-10 Batch 3:  Loss:  0.391633  Accuracy:  0.5964\n",
      "Epoch 38, CIFAR-10 Batch 4:  Loss:  0.522644  Accuracy:  0.5862\n",
      "Epoch 38, CIFAR-10 Batch 5:  Loss:  0.476439  Accuracy:  0.5996\n",
      "Epoch 39, CIFAR-10 Batch 1:  Loss:  0.642699  Accuracy:  0.5864\n",
      "Epoch 39, CIFAR-10 Batch 2:  Loss:  0.549428  Accuracy:  0.5846\n",
      "Epoch 39, CIFAR-10 Batch 3:  Loss:  0.396893  Accuracy:  0.5956\n",
      "Epoch 39, CIFAR-10 Batch 4:  Loss:  0.49432  Accuracy:  0.5872\n",
      "Epoch 39, CIFAR-10 Batch 5:  Loss:  0.450333  Accuracy:  0.6032\n",
      "Epoch 40, CIFAR-10 Batch 1:  Loss:  0.636802  Accuracy:  0.587\n",
      "Epoch 40, CIFAR-10 Batch 2:  Loss:  0.56091  Accuracy:  0.5762\n",
      "Epoch 40, CIFAR-10 Batch 3:  Loss:  0.416489  Accuracy:  0.5816\n",
      "Epoch 40, CIFAR-10 Batch 4:  Loss:  0.478158  Accuracy:  0.5934\n",
      "Epoch 40, CIFAR-10 Batch 5:  Loss:  0.45307  Accuracy:  0.5998\n",
      "Epoch 41, CIFAR-10 Batch 1:  Loss:  0.645118  Accuracy:  0.5824\n",
      "Epoch 41, CIFAR-10 Batch 2:  Loss:  0.543891  Accuracy:  0.5864\n",
      "Epoch 41, CIFAR-10 Batch 3:  Loss:  0.370056  Accuracy:  0.5916\n",
      "Epoch 41, CIFAR-10 Batch 4:  Loss:  0.477569  Accuracy:  0.598\n",
      "Epoch 41, CIFAR-10 Batch 5:  Loss:  0.449785  Accuracy:  0.5954\n",
      "Epoch 42, CIFAR-10 Batch 1:  Loss:  0.629653  Accuracy:  0.5752\n",
      "Epoch 42, CIFAR-10 Batch 2:  Loss:  0.535356  Accuracy:  0.5764\n",
      "Epoch 42, CIFAR-10 Batch 3:  Loss:  0.401884  Accuracy:  0.5828\n",
      "Epoch 42, CIFAR-10 Batch 4:  Loss:  0.520613  Accuracy:  0.5848\n",
      "Epoch 42, CIFAR-10 Batch 5:  Loss:  0.449643  Accuracy:  0.5938\n",
      "Epoch 43, CIFAR-10 Batch 1:  Loss:  0.635353  Accuracy:  0.582\n",
      "Epoch 43, CIFAR-10 Batch 2:  Loss:  0.527763  Accuracy:  0.5918\n",
      "Epoch 43, CIFAR-10 Batch 3:  Loss:  0.371  Accuracy:  0.5964\n",
      "Epoch 43, CIFAR-10 Batch 4:  Loss:  0.480936  Accuracy:  0.5862\n",
      "Epoch 43, CIFAR-10 Batch 5:  Loss:  0.428758  Accuracy:  0.5928\n",
      "Epoch 44, CIFAR-10 Batch 1:  Loss:  0.627651  Accuracy:  0.5786\n",
      "Epoch 44, CIFAR-10 Batch 2:  Loss:  0.581846  Accuracy:  0.573\n",
      "Epoch 44, CIFAR-10 Batch 3:  Loss:  0.372785  Accuracy:  0.5844\n",
      "Epoch 44, CIFAR-10 Batch 4:  Loss:  0.43564  Accuracy:  0.5994\n",
      "Epoch 44, CIFAR-10 Batch 5:  Loss:  0.433742  Accuracy:  0.5848\n",
      "Epoch 45, CIFAR-10 Batch 1:  Loss:  0.648177  Accuracy:  0.5712\n",
      "Epoch 45, CIFAR-10 Batch 2:  Loss:  0.55636  Accuracy:  0.582\n",
      "Epoch 45, CIFAR-10 Batch 3:  Loss:  0.369303  Accuracy:  0.5894\n",
      "Epoch 45, CIFAR-10 Batch 4:  Loss:  0.479554  Accuracy:  0.5842\n",
      "Epoch 45, CIFAR-10 Batch 5:  Loss:  0.469202  Accuracy:  0.5744\n",
      "Epoch 46, CIFAR-10 Batch 1:  Loss:  0.662566  Accuracy:  0.5688\n",
      "Epoch 46, CIFAR-10 Batch 2:  Loss:  0.535233  Accuracy:  0.5874\n",
      "Epoch 46, CIFAR-10 Batch 3:  Loss:  0.398464  Accuracy:  0.5918\n",
      "Epoch 46, CIFAR-10 Batch 4:  Loss:  0.451003  Accuracy:  0.5808\n",
      "Epoch 46, CIFAR-10 Batch 5:  Loss:  0.42909  Accuracy:  0.5874\n",
      "Epoch 47, CIFAR-10 Batch 1:  Loss:  0.597722  Accuracy:  0.5846\n",
      "Epoch 47, CIFAR-10 Batch 2:  Loss:  0.519135  Accuracy:  0.593\n",
      "Epoch 47, CIFAR-10 Batch 3:  Loss:  0.357292  Accuracy:  0.5894\n",
      "Epoch 47, CIFAR-10 Batch 4:  Loss:  0.447569  Accuracy:  0.5984\n",
      "Epoch 47, CIFAR-10 Batch 5:  Loss:  0.437424  Accuracy:  0.5878\n",
      "Epoch 48, CIFAR-10 Batch 1:  Loss:  0.570687  Accuracy:  0.5986\n",
      "Epoch 48, CIFAR-10 Batch 2:  Loss:  0.474851  Accuracy:  0.5928\n",
      "Epoch 48, CIFAR-10 Batch 3:  Loss:  0.331934  Accuracy:  0.5956\n",
      "Epoch 48, CIFAR-10 Batch 4:  Loss:  0.424605  Accuracy:  0.6032\n",
      "Epoch 48, CIFAR-10 Batch 5:  Loss:  0.411539  Accuracy:  0.5896\n",
      "Epoch 49, CIFAR-10 Batch 1:  Loss:  0.570302  Accuracy:  0.5946\n",
      "Epoch 49, CIFAR-10 Batch 2:  Loss:  0.463347  Accuracy:  0.5996\n",
      "Epoch 49, CIFAR-10 Batch 3:  Loss:  0.339833  Accuracy:  0.5918\n",
      "Epoch 49, CIFAR-10 Batch 4:  Loss:  0.403648  Accuracy:  0.6088\n",
      "Epoch 49, CIFAR-10 Batch 5:  Loss:  0.403799  Accuracy:  0.5954\n",
      "Epoch 50, CIFAR-10 Batch 1:  Loss:  0.53583  Accuracy:  0.6046\n",
      "Epoch 50, CIFAR-10 Batch 2:  Loss:  0.441111  Accuracy:  0.6022\n",
      "Epoch 50, CIFAR-10 Batch 3:  Loss:  0.318739  Accuracy:  0.5964\n",
      "Epoch 50, CIFAR-10 Batch 4:  Loss:  0.400515  Accuracy:  0.6062\n",
      "Epoch 50, CIFAR-10 Batch 5:  Loss:  0.371258  Accuracy:  0.5976\n"
     ]
    }
   ],
   "source": [
    "\"\"\"\n",
    "DON'T MODIFY ANYTHING IN THIS CELL\n",
    "\"\"\"\n",
    "save_model_path = './image_classification'\n",
    "\n",
    "print('Training...')\n",
    "with tf.Session() as sess:\n",
    "    # Initializing the variables\n",
    "    sess.run(tf.global_variables_initializer())\n",
    "    \n",
    "    # Training cycle\n",
    "    for epoch in range(epochs):\n",
    "        # Loop over all batches\n",
    "        n_batches = 5\n",
    "        for batch_i in range(1, n_batches + 1):\n",
    "            for batch_features, batch_labels in helper.load_preprocess_training_batch(batch_i, batch_size):\n",
    "                train_neural_network(sess, optimizer, keep_probability, batch_features, batch_labels)\n",
    "            print('Epoch {:>2}, CIFAR-10 Batch {}:  '.format(epoch + 1, batch_i), end='')\n",
    "            print_stats(sess, batch_features, batch_labels, cost, accuracy)\n",
    "            \n",
    "    # Save Model\n",
    "    saver = tf.train.Saver()\n",
    "    save_path = saver.save(sess, save_model_path)"
   ]
  },
  {
   "cell_type": "markdown",
   "metadata": {},
   "source": [
    "# Checkpoint\n",
    "The model has been saved to disk.\n",
    "## Test Model\n",
    "Test your model against the test dataset.  This will be your final accuracy. You should have an accuracy greater than 50%. If you don't, keep tweaking the model architecture and parameters."
   ]
  },
  {
   "cell_type": "code",
   "execution_count": 37,
   "metadata": {},
   "outputs": [
    {
     "name": "stdout",
     "output_type": "stream",
     "text": [
      "INFO:tensorflow:Restoring parameters from ./image_classification\n",
      "Testing Accuracy: 0.6012910863627559\n",
      "\n"
     ]
    },
    {
     "data": {
      "image/png": "[encoded data removed]",
      "text/plain": [
       "<matplotlib.figure.Figure at 0x7fa2e418fbe0>"
      ]
     },
     "metadata": {
      "image/png": {
       "height": 319,
       "width": 355
      }
     },
     "output_type": "display_data"
    }
   ],
   "source": [
    "\"\"\"\n",
    "DON'T MODIFY ANYTHING IN THIS CELL\n",
    "\"\"\"\n",
    "%matplotlib inline\n",
    "%config InlineBackend.figure_format = 'retina'\n",
    "\n",
    "import tensorflow as tf\n",
    "import pickle\n",
    "import helper\n",
    "import random\n",
    "\n",
    "# Set batch size if not already set\n",
    "try:\n",
    "    if batch_size:\n",
    "        pass\n",
    "except NameError:\n",
    "    batch_size = 64\n",
    "\n",
    "save_model_path = './image_classification'\n",
    "n_samples = 4\n",
    "top_n_predictions = 3\n",
    "\n",
    "def test_model():\n",
    "    \"\"\"\n",
    "    Test the saved model against the test dataset\n",
    "    \"\"\"\n",
    "\n",
    "    test_features, test_labels = pickle.load(open('preprocess_test.p', mode='rb'))\n",
    "    loaded_graph = tf.Graph()\n",
    "\n",
    "    with tf.Session(graph=loaded_graph) as sess:\n",
    "        # Load model\n",
    "        loader = tf.train.import_meta_graph(save_model_path + '.meta')\n",
    "        loader.restore(sess, save_model_path)\n",
    "\n",
    "        # Get Tensors from loaded model\n",
    "        loaded_x = loaded_graph.get_tensor_by_name('x:0')\n",
    "        loaded_y = loaded_graph.get_tensor_by_name('y:0')\n",
    "        loaded_keep_prob = loaded_graph.get_tensor_by_name('keep_prob:0')\n",
    "        loaded_logits = loaded_graph.get_tensor_by_name('logits:0')\n",
    "        loaded_acc = loaded_graph.get_tensor_by_name('accuracy:0')\n",
    "        \n",
    "        # Get accuracy in batches for memory limitations\n",
    "        test_batch_acc_total = 0\n",
    "        test_batch_count = 0\n",
    "        \n",
    "        for test_feature_batch, test_label_batch in helper.batch_features_labels(test_features, test_labels, batch_size):\n",
    "            test_batch_acc_total += sess.run(\n",
    "                loaded_acc,\n",
    "                feed_dict={loaded_x: test_feature_batch, loaded_y: test_label_batch, loaded_keep_prob: 1.0})\n",
    "            test_batch_count += 1\n",
    "\n",
    "        print('Testing Accuracy: {}\\n'.format(test_batch_acc_total/test_batch_count))\n",
    "\n",
    "        # Print Random Samples\n",
    "        random_test_features, random_test_labels = tuple(zip(*random.sample(list(zip(test_features, test_labels)), n_samples)))\n",
    "        random_test_predictions = sess.run(\n",
    "            tf.nn.top_k(tf.nn.softmax(loaded_logits), top_n_predictions),\n",
    "            feed_dict={loaded_x: random_test_features, loaded_y: random_test_labels, loaded_keep_prob: 1.0})\n",
    "        helper.display_image_predictions(random_test_features, random_test_labels, random_test_predictions)\n",
    "\n",
    "\n",
    "test_model()"
   ]
  },
  {
   "cell_type": "markdown",
   "metadata": {},
   "source": [
    "## Why 50-80% Accuracy?\n",
    "You might be wondering why you can't get an accuracy any higher. First things first, 50% isn't bad for a simple CNN.  Pure guessing would get you 10% accuracy. However, you might notice people are getting scores [well above 80%](http://rodrigob.github.io/are_we_there_yet/build/classification_datasets_results.html#43494641522d3130).  That's because we haven't taught you all there is to know about neural networks. We still need to cover a few more techniques.\n",
    "## Submitting This Project\n",
    "When submitting this project, make sure to run all the cells before saving the notebook.  Save the notebook file as \"dlnd_image_classification.ipynb\" and save it as a HTML file under \"File\" -> \"Download as\".  Include the \"helper.py\" and \"problem_unittests.py\" files in your submission."
   ]
  },
  {
   "cell_type": "code",
   "execution_count": null,
   "metadata": {
    "collapsed": true
   },
   "outputs": [],
   "source": []
  }
 ],
 "metadata": {
  "kernelspec": {
   "display_name": "Python 3",
   "language": "python",
   "name": "python3"
  },
  "language_info": {
   "codemirror_mode": {
    "name": "ipython",
    "version": 3
   },
   "file_extension": ".py",
   "mimetype": "text/x-python",
   "name": "python",
   "nbconvert_exporter": "python",
   "pygments_lexer": "ipython3",
   "version": "3.5.3"
  }
 },
 "nbformat": 4,
 "nbformat_minor": 1
}
